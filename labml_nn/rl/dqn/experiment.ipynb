{
 "cells": [
  {
   "attachments": {},
   "cell_type": "markdown",
   "metadata": {
    "id": "AYV_dMVDxyc2"
   },
   "source": [
    "[![Github](https://img.shields.io/github/stars/labmlai/annotated_deep_learning_paper_implementations?style=social)](https://github.com/labmlai/annotated_deep_learning_paper_implementations)\n",
    "[![Open In Colab](https://colab.research.google.com/assets/colab-badge.svg)](https://colab.research.google.com/github/labmlai/annotated_deep_learning_paper_implementations/blob/master/labml_nn/rl/dqn/experiment.ipynb)                    \n",
    "\n",
    "## Deep Q Networks (DQN)\n",
    "\n",
    "This is an experiment training an agent to play Atari Breakout game using Deep Q Networks (DQN)"
   ]
  },
  {
   "attachments": {},
   "cell_type": "markdown",
   "metadata": {
    "id": "AahG_i2y5tY9"
   },
   "source": [
    "Install the `labml-nn` package"
   ]
  },
  {
   "cell_type": "code",
   "execution_count": 1,
   "metadata": {},
   "outputs": [
    {
     "name": "stdout",
     "output_type": "stream",
     "text": [
      "Collecting torch==2.0.1\n",
      "  Downloading torch-2.0.1-cp39-cp39-win_amd64.whl (172.4 MB)\n",
      "Collecting jinja2\n",
      "  Using cached Jinja2-3.1.2-py3-none-any.whl (133 kB)\n",
      "Collecting sympy\n",
      "  Using cached sympy-1.12-py3-none-any.whl (5.7 MB)\n",
      "Requirement already satisfied: typing-extensions in c:\\users\\admin\\appdata\\roaming\\python\\python39\\site-packages (from torch==2.0.1) (4.5.0)\n",
      "Collecting filelock\n",
      "  Using cached filelock-3.12.0-py3-none-any.whl (10 kB)\n",
      "Collecting networkx\n",
      "  Using cached networkx-3.1-py3-none-any.whl (2.1 MB)\n",
      "Collecting MarkupSafe>=2.0\n",
      "  Downloading MarkupSafe-2.1.2-cp39-cp39-win_amd64.whl (16 kB)\n",
      "Collecting mpmath>=0.19\n",
      "  Using cached mpmath-1.3.0-py3-none-any.whl (536 kB)\n",
      "Installing collected packages: MarkupSafe, jinja2, mpmath, sympy, filelock, networkx, torch\n",
      "Successfully installed MarkupSafe-2.1.2 filelock-3.12.0 jinja2-3.1.2 mpmath-1.3.0 networkx-3.1 sympy-1.12 torch-2.0.1\n"
     ]
    },
    {
     "name": "stderr",
     "output_type": "stream",
     "text": [
      "WARNING: You are using pip version 20.2.3; however, version 23.1.2 is available.\n",
      "You should consider upgrading via the 'c:\\users\\admin\\appdata\\local\\programs\\python\\python39\\python.exe -m pip install --upgrade pip' command.\n"
     ]
    }
   ],
   "source": [
    "\n",
    "#upgrade torch\n",
    "!pip install torch==2.0.1"
   ]
  },
  {
   "cell_type": "code",
   "execution_count": 6,
   "metadata": {},
   "outputs": [
    {
     "name": "stdout",
     "output_type": "stream",
     "text": [
      "Collecting numpy==1.24.3\n",
      "  Downloading numpy-1.24.3-cp39-cp39-win_amd64.whl (14.9 MB)\n",
      "Installing collected packages: numpy\n",
      "  Attempting uninstall: numpy\n",
      "    Found existing installation: numpy 1.20.0\n",
      "    Uninstalling numpy-1.20.0:\n",
      "      Successfully uninstalled numpy-1.20.0\n",
      "Successfully installed numpy-1.24.3\n"
     ]
    },
    {
     "name": "stderr",
     "output_type": "stream",
     "text": [
      "WARNING: You are using pip version 20.2.3; however, version 23.1.2 is available.\n",
      "You should consider upgrading via the 'c:\\users\\admin\\appdata\\local\\programs\\python\\python39\\python.exe -m pip install --upgrade pip' command.\n"
     ]
    }
   ],
   "source": [
    "#upgrade numpy to 1.24.3\n",
    "!pip install numpy==1.24.3\n"
   ]
  },
  {
   "cell_type": "code",
   "execution_count": 19,
   "metadata": {},
   "outputs": [
    {
     "name": "stdout",
     "output_type": "stream",
     "text": [
      "Requirement already satisfied: pip in c:\\users\\admin\\appdata\\local\\programs\\python\\python39\\lib\\site-packages (23.1.2)\n"
     ]
    }
   ],
   "source": [
    "!pip install --upgrade pip\n"
   ]
  },
  {
   "cell_type": "code",
   "execution_count": 11,
   "metadata": {},
   "outputs": [
    {
     "name": "stdout",
     "output_type": "stream",
     "text": [
      "Collecting atari-py\n",
      "  Downloading atari_py-0.2.9-cp39-cp39-win_amd64.whl (1.6 MB)\n",
      "                                              0.0/1.6 MB ? eta -:--:--\n",
      "     ---------                                0.4/1.6 MB 11.6 MB/s eta 0:00:01\n",
      "     -----------------------                  0.9/1.6 MB 9.7 MB/s eta 0:00:01\n",
      "     ----------------------------------       1.3/1.6 MB 9.4 MB/s eta 0:00:01\n",
      "     ---------------------------------------- 1.6/1.6 MB 9.0 MB/s eta 0:00:00\n",
      "Requirement already satisfied: numpy in c:\\users\\admin\\appdata\\local\\programs\\python\\python39\\lib\\site-packages (from atari-py) (1.24.3)\n",
      "Requirement already satisfied: six in c:\\users\\admin\\appdata\\roaming\\python\\python39\\site-packages (from atari-py) (1.16.0)\n",
      "Installing collected packages: atari-py\n",
      "Successfully installed atari-py-0.2.9\n"
     ]
    }
   ],
   "source": [
    "!pip install atari-py"
   ]
  },
  {
   "cell_type": "code",
   "execution_count": 12,
   "metadata": {},
   "outputs": [],
   "source": [
    "import atari_py"
   ]
  },
  {
   "cell_type": "code",
   "execution_count": 20,
   "metadata": {},
   "outputs": [
    {
     "name": "stdout",
     "output_type": "stream",
     "text": [
      "Collecting opencv-python\n",
      "  Using cached opencv_python-4.7.0.72-cp37-abi3-win_amd64.whl (38.2 MB)\n",
      "Requirement already satisfied: numpy>=1.17.0 in c:\\users\\admin\\appdata\\local\\programs\\python\\python39\\lib\\site-packages (from opencv-python) (1.24.3)\n",
      "Installing collected packages: opencv-python\n",
      "Successfully installed opencv-python-4.7.0.72\n"
     ]
    }
   ],
   "source": [
    "!pip install opencv-python\n"
   ]
  },
  {
   "cell_type": "code",
   "execution_count": 22,
   "metadata": {},
   "outputs": [
    {
     "name": "stdout",
     "output_type": "stream",
     "text": [
      "Collecting gym\n",
      "  Using cached gym-0.26.2.tar.gz (721 kB)\n",
      "  Installing build dependencies: started\n",
      "  Installing build dependencies: finished with status 'done'\n",
      "  Getting requirements to build wheel: started\n",
      "  Getting requirements to build wheel: finished with status 'done'\n",
      "  Preparing metadata (pyproject.toml): started\n",
      "  Preparing metadata (pyproject.toml): finished with status 'done'\n",
      "Requirement already satisfied: numpy>=1.18.0 in c:\\users\\admin\\appdata\\local\\programs\\python\\python39\\lib\\site-packages (from gym) (1.24.3)\n",
      "Collecting cloudpickle>=1.2.0 (from gym)\n",
      "  Using cached cloudpickle-2.2.1-py3-none-any.whl (25 kB)\n",
      "Collecting gym-notices>=0.0.4 (from gym)\n",
      "  Using cached gym_notices-0.0.8-py3-none-any.whl (3.0 kB)\n",
      "Requirement already satisfied: importlib-metadata>=4.8.0 in c:\\users\\admin\\appdata\\roaming\\python\\python39\\site-packages (from gym) (6.6.0)\n",
      "Requirement already satisfied: zipp>=0.5 in c:\\users\\admin\\appdata\\roaming\\python\\python39\\site-packages (from importlib-metadata>=4.8.0->gym) (3.15.0)\n",
      "Building wheels for collected packages: gym\n",
      "  Building wheel for gym (pyproject.toml): started\n",
      "  Building wheel for gym (pyproject.toml): finished with status 'done'\n",
      "  Created wheel for gym: filename=gym-0.26.2-py3-none-any.whl size=827649 sha256=037628a8717be7758f93210d7807948a74853f4de88d26de091a35c136b46f3d\n",
      "  Stored in directory: c:\\users\\admin\\appdata\\local\\pip\\cache\\wheels\\af\\2b\\30\\5e78b8b9599f2a2286a582b8da80594f654bf0e18d825a4405\n",
      "Successfully built gym\n",
      "Installing collected packages: gym-notices, cloudpickle, gym\n",
      "Successfully installed cloudpickle-2.2.1 gym-0.26.2 gym-notices-0.0.8\n"
     ]
    }
   ],
   "source": [
    "!pip install gym"
   ]
  },
  {
   "cell_type": "code",
   "execution_count": 16,
   "metadata": {
    "colab": {
     "base_uri": "https://localhost:8080/"
    },
    "id": "ZCzmCrAIVg0L",
    "outputId": "6c416266-1e99-4e60-a665-06ff9fba22a6"
   },
   "outputs": [
    {
     "name": "stdout",
     "output_type": "stream",
     "text": [
      "Requirement already satisfied: labml-nn in c:\\users\\admin\\appdata\\local\\programs\\python\\python39\\lib\\site-packages (0.4.133)\n",
      "Requirement already satisfied: labml>=0.4.158 in c:\\users\\admin\\appdata\\local\\programs\\python\\python39\\lib\\site-packages (from labml-nn) (0.4.162)\n",
      "Requirement already satisfied: labml-helpers>=0.4.89 in c:\\users\\admin\\appdata\\local\\programs\\python\\python39\\lib\\site-packages (from labml-nn) (0.4.89)\n",
      "Requirement already satisfied: torch in c:\\users\\admin\\appdata\\local\\programs\\python\\python39\\lib\\site-packages (from labml-nn) (2.0.1)\n",
      "Requirement already satisfied: torchtext in c:\\users\\admin\\appdata\\local\\programs\\python\\python39\\lib\\site-packages (from labml-nn) (0.15.2)\n",
      "Requirement already satisfied: torchvision in c:\\users\\admin\\appdata\\local\\programs\\python\\python39\\lib\\site-packages (from labml-nn) (0.15.2)\n",
      "Requirement already satisfied: einops in c:\\users\\admin\\appdata\\local\\programs\\python\\python39\\lib\\site-packages (from labml-nn) (0.6.1)\n",
      "Requirement already satisfied: numpy in c:\\users\\admin\\appdata\\local\\programs\\python\\python39\\lib\\site-packages (from labml-nn) (1.24.3)\n",
      "Requirement already satisfied: fairscale in c:\\users\\admin\\appdata\\local\\programs\\python\\python39\\lib\\site-packages (from labml-nn) (0.4.13)\n",
      "Requirement already satisfied: gitpython in c:\\users\\admin\\appdata\\local\\programs\\python\\python39\\lib\\site-packages (from labml>=0.4.158->labml-nn) (3.1.31)\n",
      "Requirement already satisfied: pyyaml in c:\\users\\admin\\appdata\\local\\programs\\python\\python39\\lib\\site-packages (from labml>=0.4.158->labml-nn) (6.0)\n",
      "Requirement already satisfied: filelock in c:\\users\\admin\\appdata\\local\\programs\\python\\python39\\lib\\site-packages (from torch->labml-nn) (3.12.0)\n",
      "Requirement already satisfied: typing-extensions in c:\\users\\admin\\appdata\\roaming\\python\\python39\\site-packages (from torch->labml-nn) (4.5.0)\n",
      "Requirement already satisfied: sympy in c:\\users\\admin\\appdata\\local\\programs\\python\\python39\\lib\\site-packages (from torch->labml-nn) (1.12)\n",
      "Requirement already satisfied: networkx in c:\\users\\admin\\appdata\\local\\programs\\python\\python39\\lib\\site-packages (from torch->labml-nn) (3.1)\n",
      "Requirement already satisfied: jinja2 in c:\\users\\admin\\appdata\\local\\programs\\python\\python39\\lib\\site-packages (from torch->labml-nn) (3.1.2)\n",
      "Requirement already satisfied: tqdm in c:\\users\\admin\\appdata\\local\\programs\\python\\python39\\lib\\site-packages (from torchtext->labml-nn) (4.65.0)\n",
      "Requirement already satisfied: requests in c:\\users\\admin\\appdata\\local\\programs\\python\\python39\\lib\\site-packages (from torchtext->labml-nn) (2.30.0)\n",
      "Requirement already satisfied: torchdata==0.6.1 in c:\\users\\admin\\appdata\\local\\programs\\python\\python39\\lib\\site-packages (from torchtext->labml-nn) (0.6.1)\n",
      "Requirement already satisfied: urllib3>=1.25 in c:\\users\\admin\\appdata\\local\\programs\\python\\python39\\lib\\site-packages (from torchdata==0.6.1->torchtext->labml-nn) (2.0.2)\n",
      "Requirement already satisfied: pillow!=8.3.*,>=5.3.0 in c:\\users\\admin\\appdata\\local\\programs\\python\\python39\\lib\\site-packages (from torchvision->labml-nn) (9.5.0)\n",
      "Requirement already satisfied: gitdb<5,>=4.0.1 in c:\\users\\admin\\appdata\\local\\programs\\python\\python39\\lib\\site-packages (from gitpython->labml>=0.4.158->labml-nn) (4.0.10)\n",
      "Requirement already satisfied: MarkupSafe>=2.0 in c:\\users\\admin\\appdata\\local\\programs\\python\\python39\\lib\\site-packages (from jinja2->torch->labml-nn) (2.1.2)\n",
      "Requirement already satisfied: charset-normalizer<4,>=2 in c:\\users\\admin\\appdata\\local\\programs\\python\\python39\\lib\\site-packages (from requests->torchtext->labml-nn) (3.1.0)\n",
      "Requirement already satisfied: idna<4,>=2.5 in c:\\users\\admin\\appdata\\local\\programs\\python\\python39\\lib\\site-packages (from requests->torchtext->labml-nn) (3.4)\n",
      "Requirement already satisfied: certifi>=2017.4.17 in c:\\users\\admin\\appdata\\local\\programs\\python\\python39\\lib\\site-packages (from requests->torchtext->labml-nn) (2023.5.7)\n",
      "Requirement already satisfied: mpmath>=0.19 in c:\\users\\admin\\appdata\\local\\programs\\python\\python39\\lib\\site-packages (from sympy->torch->labml-nn) (1.3.0)\n",
      "Requirement already satisfied: colorama in c:\\users\\admin\\appdata\\roaming\\python\\python39\\site-packages (from tqdm->torchtext->labml-nn) (0.4.6)\n",
      "Requirement already satisfied: smmap<6,>=3.0.1 in c:\\users\\admin\\appdata\\local\\programs\\python\\python39\\lib\\site-packages (from gitdb<5,>=4.0.1->gitpython->labml>=0.4.158->labml-nn) (5.0.0)\n"
     ]
    }
   ],
   "source": [
    "!pip install labml-nn"
   ]
  },
  {
   "attachments": {},
   "cell_type": "markdown",
   "metadata": {
    "id": "3-G5kplRFmsO"
   },
   "source": [
    "Add Atari ROMs (Doesn't work without this in Google Colab)"
   ]
  },
  {
   "cell_type": "code",
   "execution_count": 17,
   "metadata": {
    "colab": {
     "base_uri": "https://localhost:8080/"
    },
    "id": "SByhklD1FlSj",
    "outputId": "74075a5e-ec1c-43dc-8859-8f7c3b3b8402"
   },
   "outputs": [
    {
     "name": "stderr",
     "output_type": "stream",
     "text": [
      "'wget' �����ڲ����ⲿ���Ҳ���ǿ����еĳ���\n",
      "���������ļ���\n",
      "�����﷨����ȷ��\n",
      "'unrar' �����ڲ����ⲿ���Ҳ���ǿ����еĳ���\n",
      "���������ļ���\n"
     ]
    }
   ],
   "source": [
    "! wget http://www.atarimania.com/roms/Roms.rar\n",
    "! mkdir /content/ROM/\n",
    "! unrar e /content/Roms.rar /content/ROM/\n",
    "! python -m atari_py.import_roms /content/ROM/"
   ]
  },
  {
   "attachments": {},
   "cell_type": "markdown",
   "metadata": {
    "id": "SE2VUQ6L5zxI"
   },
   "source": [
    "Imports"
   ]
  },
  {
   "cell_type": "code",
   "execution_count": 1,
   "metadata": {
    "id": "0hJXx_g0wS2C"
   },
   "outputs": [],
   "source": [
    "from labml import experiment\n",
    "from labml.configs import FloatDynamicHyperParam\n",
    "from labml_nn.rl.dqn.experiment import Trainer"
   ]
  },
  {
   "cell_type": "code",
   "execution_count": 2,
   "metadata": {},
   "outputs": [],
   "source": [
    "import atari_py"
   ]
  },
  {
   "attachments": {},
   "cell_type": "markdown",
   "metadata": {
    "id": "Lpggo0wM6qb-"
   },
   "source": [
    "Create an experiment"
   ]
  },
  {
   "cell_type": "code",
   "execution_count": 3,
   "metadata": {
    "id": "bFcr9k-l4cAg"
   },
   "outputs": [],
   "source": [
    "experiment.create(name=\"dqn\")"
   ]
  },
  {
   "attachments": {},
   "cell_type": "markdown",
   "metadata": {
    "id": "Hw6uVl1_GaPv"
   },
   "source": [
    "### Configurations\n",
    "\n",
    "`FloatDynamicHyperParam` is a dynamic hyper-parameter\n",
    "that you can change while the experiment is running."
   ]
  },
  {
   "cell_type": "code",
   "execution_count": 4,
   "metadata": {
    "colab": {
     "base_uri": "https://localhost:8080/",
     "height": 17
    },
    "id": "L8bUtLD6GksC",
    "outputId": "c7d4efe7-490e-4153-e691-ca31df1e1275"
   },
   "outputs": [],
   "source": [
    "configs = {\n",
    "    # Number of updates\n",
    "    'updates': 1_000_000,\n",
    "    # Number of epochs to train the model with sampled data.\n",
    "    'epochs': 8,\n",
    "    # Number of worker processes\n",
    "    'n_workers': 8,\n",
    "    # Number of steps to run on each process for a single update\n",
    "    'worker_steps': 4,\n",
    "    # Mini batch size\n",
    "    'mini_batch_size': 32,\n",
    "    # Target model updating interval\n",
    "    'update_target_model': 250,\n",
    "    # Learning rate.\n",
    "    'learning_rate': FloatDynamicHyperParam(1e-4, (0, 1e-3)),\n",
    "}"
   ]
  },
  {
   "attachments": {},
   "cell_type": "markdown",
   "metadata": {},
   "source": [
    "Set experiment configurations"
   ]
  },
  {
   "cell_type": "code",
   "execution_count": 5,
   "metadata": {},
   "outputs": [
    {
     "name": "stdout",
     "output_type": "stream",
     "text": [
      "Requirement already satisfied: ipywidgets in c:\\users\\admin\\appdata\\local\\programs\\python\\python39\\lib\\site-packages (8.0.6)\n",
      "Requirement already satisfied: ipykernel>=4.5.1 in c:\\users\\admin\\appdata\\roaming\\python\\python39\\site-packages (from ipywidgets) (6.23.0)\n",
      "Requirement already satisfied: ipython>=6.1.0 in c:\\users\\admin\\appdata\\roaming\\python\\python39\\site-packages (from ipywidgets) (8.13.2)\n",
      "Requirement already satisfied: traitlets>=4.3.1 in c:\\users\\admin\\appdata\\roaming\\python\\python39\\site-packages (from ipywidgets) (5.9.0)\n",
      "Requirement already satisfied: widgetsnbextension~=4.0.7 in c:\\users\\admin\\appdata\\local\\programs\\python\\python39\\lib\\site-packages (from ipywidgets) (4.0.7)\n",
      "Requirement already satisfied: jupyterlab-widgets~=3.0.7 in c:\\users\\admin\\appdata\\local\\programs\\python\\python39\\lib\\site-packages (from ipywidgets) (3.0.7)\n",
      "Requirement already satisfied: comm>=0.1.1 in c:\\users\\admin\\appdata\\roaming\\python\\python39\\site-packages (from ipykernel>=4.5.1->ipywidgets) (0.1.3)\n",
      "Requirement already satisfied: debugpy>=1.6.5 in c:\\users\\admin\\appdata\\roaming\\python\\python39\\site-packages (from ipykernel>=4.5.1->ipywidgets) (1.6.7)\n",
      "Requirement already satisfied: jupyter-client>=6.1.12 in c:\\users\\admin\\appdata\\roaming\\python\\python39\\site-packages (from ipykernel>=4.5.1->ipywidgets) (8.2.0)\n",
      "Requirement already satisfied: jupyter-core!=5.0.*,>=4.12 in c:\\users\\admin\\appdata\\roaming\\python\\python39\\site-packages (from ipykernel>=4.5.1->ipywidgets) (5.3.0)\n",
      "Requirement already satisfied: matplotlib-inline>=0.1 in c:\\users\\admin\\appdata\\roaming\\python\\python39\\site-packages (from ipykernel>=4.5.1->ipywidgets) (0.1.6)\n",
      "Requirement already satisfied: nest-asyncio in c:\\users\\admin\\appdata\\roaming\\python\\python39\\site-packages (from ipykernel>=4.5.1->ipywidgets) (1.5.6)\n",
      "Requirement already satisfied: packaging in c:\\users\\admin\\appdata\\roaming\\python\\python39\\site-packages (from ipykernel>=4.5.1->ipywidgets) (23.1)\n",
      "Requirement already satisfied: psutil in c:\\users\\admin\\appdata\\roaming\\python\\python39\\site-packages (from ipykernel>=4.5.1->ipywidgets) (5.9.5)\n",
      "Requirement already satisfied: pyzmq>=20 in c:\\users\\admin\\appdata\\roaming\\python\\python39\\site-packages (from ipykernel>=4.5.1->ipywidgets) (25.0.2)\n",
      "Requirement already satisfied: tornado>=6.1 in c:\\users\\admin\\appdata\\roaming\\python\\python39\\site-packages (from ipykernel>=4.5.1->ipywidgets) (6.3.1)\n",
      "Requirement already satisfied: backcall in c:\\users\\admin\\appdata\\roaming\\python\\python39\\site-packages (from ipython>=6.1.0->ipywidgets) (0.2.0)\n",
      "Requirement already satisfied: decorator in c:\\users\\admin\\appdata\\roaming\\python\\python39\\site-packages (from ipython>=6.1.0->ipywidgets) (5.1.1)\n",
      "Requirement already satisfied: jedi>=0.16 in c:\\users\\admin\\appdata\\roaming\\python\\python39\\site-packages (from ipython>=6.1.0->ipywidgets) (0.18.2)\n",
      "Requirement already satisfied: pickleshare in c:\\users\\admin\\appdata\\roaming\\python\\python39\\site-packages (from ipython>=6.1.0->ipywidgets) (0.7.5)\n",
      "Requirement already satisfied: prompt-toolkit!=3.0.37,<3.1.0,>=3.0.30 in c:\\users\\admin\\appdata\\roaming\\python\\python39\\site-packages (from ipython>=6.1.0->ipywidgets) (3.0.38)\n",
      "Requirement already satisfied: pygments>=2.4.0 in c:\\users\\admin\\appdata\\roaming\\python\\python39\\site-packages (from ipython>=6.1.0->ipywidgets) (2.15.1)\n",
      "Requirement already satisfied: stack-data in c:\\users\\admin\\appdata\\roaming\\python\\python39\\site-packages (from ipython>=6.1.0->ipywidgets) (0.6.2)\n",
      "Requirement already satisfied: typing-extensions in c:\\users\\admin\\appdata\\roaming\\python\\python39\\site-packages (from ipython>=6.1.0->ipywidgets) (4.5.0)\n",
      "Requirement already satisfied: colorama in c:\\users\\admin\\appdata\\roaming\\python\\python39\\site-packages (from ipython>=6.1.0->ipywidgets) (0.4.6)\n",
      "Requirement already satisfied: parso<0.9.0,>=0.8.0 in c:\\users\\admin\\appdata\\roaming\\python\\python39\\site-packages (from jedi>=0.16->ipython>=6.1.0->ipywidgets) (0.8.3)\n",
      "Requirement already satisfied: importlib-metadata>=4.8.3 in c:\\users\\admin\\appdata\\roaming\\python\\python39\\site-packages (from jupyter-client>=6.1.12->ipykernel>=4.5.1->ipywidgets) (6.6.0)\n",
      "Requirement already satisfied: python-dateutil>=2.8.2 in c:\\users\\admin\\appdata\\roaming\\python\\python39\\site-packages (from jupyter-client>=6.1.12->ipykernel>=4.5.1->ipywidgets) (2.8.2)\n",
      "Requirement already satisfied: platformdirs>=2.5 in c:\\users\\admin\\appdata\\roaming\\python\\python39\\site-packages (from jupyter-core!=5.0.*,>=4.12->ipykernel>=4.5.1->ipywidgets) (3.5.0)\n",
      "Requirement already satisfied: pywin32>=300 in c:\\users\\admin\\appdata\\roaming\\python\\python39\\site-packages (from jupyter-core!=5.0.*,>=4.12->ipykernel>=4.5.1->ipywidgets) (306)\n",
      "Requirement already satisfied: wcwidth in c:\\users\\admin\\appdata\\roaming\\python\\python39\\site-packages (from prompt-toolkit!=3.0.37,<3.1.0,>=3.0.30->ipython>=6.1.0->ipywidgets) (0.2.6)\n",
      "Requirement already satisfied: executing>=1.2.0 in c:\\users\\admin\\appdata\\roaming\\python\\python39\\site-packages (from stack-data->ipython>=6.1.0->ipywidgets) (1.2.0)\n",
      "Requirement already satisfied: asttokens>=2.1.0 in c:\\users\\admin\\appdata\\roaming\\python\\python39\\site-packages (from stack-data->ipython>=6.1.0->ipywidgets) (2.2.1)\n",
      "Requirement already satisfied: pure-eval in c:\\users\\admin\\appdata\\roaming\\python\\python39\\site-packages (from stack-data->ipython>=6.1.0->ipywidgets) (0.2.2)\n",
      "Requirement already satisfied: six in c:\\users\\admin\\appdata\\roaming\\python\\python39\\site-packages (from asttokens>=2.1.0->stack-data->ipython>=6.1.0->ipywidgets) (1.16.0)\n",
      "Requirement already satisfied: zipp>=0.5 in c:\\users\\admin\\appdata\\roaming\\python\\python39\\site-packages (from importlib-metadata>=4.8.3->jupyter-client>=6.1.12->ipykernel>=4.5.1->ipywidgets) (3.15.0)\n"
     ]
    }
   ],
   "source": [
    "!pip install ipywidgets"
   ]
  },
  {
   "cell_type": "code",
   "execution_count": 5,
   "metadata": {},
   "outputs": [
    {
     "data": {
      "application/vnd.jupyter.widget-view+json": {
       "model_id": "1f25f498a9644dd7afd6000704190559",
       "version_major": 2,
       "version_minor": 0
      },
      "text/plain": [
       "HTML(value='<pre  style=\"overflow-x: scroll;\"></pre>')"
      ]
     },
     "metadata": {},
     "output_type": "display_data"
    }
   ],
   "source": [
    "experiment.configs(configs)"
   ]
  },
  {
   "cell_type": "code",
   "execution_count": 11,
   "metadata": {},
   "outputs": [
    {
     "name": "stdout",
     "output_type": "stream",
     "text": [
      "Requirement already satisfied: gym[atari] in c:\\users\\admin\\appdata\\local\\programs\\python\\python39\\lib\\site-packages (0.26.2)\n",
      "Requirement already satisfied: numpy>=1.18.0 in c:\\users\\admin\\appdata\\local\\programs\\python\\python39\\lib\\site-packages (from gym[atari]) (1.24.3)\n",
      "Requirement already satisfied: cloudpickle>=1.2.0 in c:\\users\\admin\\appdata\\local\\programs\\python\\python39\\lib\\site-packages (from gym[atari]) (2.2.1)\n",
      "Requirement already satisfied: gym-notices>=0.0.4 in c:\\users\\admin\\appdata\\local\\programs\\python\\python39\\lib\\site-packages (from gym[atari]) (0.0.8)\n",
      "Requirement already satisfied: importlib-metadata>=4.8.0 in c:\\users\\admin\\appdata\\roaming\\python\\python39\\site-packages (from gym[atari]) (6.6.0)\n",
      "Collecting ale-py~=0.8.0 (from gym[atari])\n",
      "  Downloading ale_py-0.8.1-cp39-cp39-win_amd64.whl (952 kB)\n",
      "                                              0.0/952.3 kB ? eta -:--:--\n",
      "     -                                     30.7/952.3 kB 660.6 kB/s eta 0:00:02\n",
      "     ----------                             256.0/952.3 kB 2.6 MB/s eta 0:00:01\n",
      "     --------------------                   512.0/952.3 kB 3.6 MB/s eta 0:00:01\n",
      "     ----------------------------------     870.4/952.3 kB 4.6 MB/s eta 0:00:01\n",
      "     -------------------------------------- 952.3/952.3 kB 4.3 MB/s eta 0:00:00\n",
      "Collecting importlib-resources (from ale-py~=0.8.0->gym[atari])\n",
      "  Using cached importlib_resources-5.12.0-py3-none-any.whl (36 kB)\n",
      "Requirement already satisfied: typing-extensions in c:\\users\\admin\\appdata\\roaming\\python\\python39\\site-packages (from ale-py~=0.8.0->gym[atari]) (4.5.0)\n",
      "Requirement already satisfied: zipp>=0.5 in c:\\users\\admin\\appdata\\roaming\\python\\python39\\site-packages (from importlib-metadata>=4.8.0->gym[atari]) (3.15.0)\n",
      "Installing collected packages: importlib-resources, ale-py\n",
      "Successfully installed ale-py-0.8.1 importlib-resources-5.12.0\n",
      "Collecting autorom[accept-rom-license]\n",
      "  Downloading AutoROM-0.6.1-py3-none-any.whl (9.4 kB)\n",
      "Collecting click (from autorom[accept-rom-license])\n",
      "  Using cached click-8.1.3-py3-none-any.whl (96 kB)\n",
      "Requirement already satisfied: requests in c:\\users\\admin\\appdata\\local\\programs\\python\\python39\\lib\\site-packages (from autorom[accept-rom-license]) (2.30.0)\n",
      "Collecting AutoROM.accept-rom-license (from autorom[accept-rom-license])\n",
      "  Using cached AutoROM.accept-rom-license-0.6.1.tar.gz (434 kB)\n",
      "  Installing build dependencies: started\n",
      "  Installing build dependencies: finished with status 'done'\n",
      "  Getting requirements to build wheel: started\n",
      "  Getting requirements to build wheel: finished with status 'done'\n",
      "  Preparing metadata (pyproject.toml): started\n",
      "  Preparing metadata (pyproject.toml): finished with status 'done'\n",
      "Requirement already satisfied: colorama in c:\\users\\admin\\appdata\\roaming\\python\\python39\\site-packages (from click->autorom[accept-rom-license]) (0.4.6)\n",
      "Requirement already satisfied: charset-normalizer<4,>=2 in c:\\users\\admin\\appdata\\local\\programs\\python\\python39\\lib\\site-packages (from requests->autorom[accept-rom-license]) (3.1.0)\n",
      "Requirement already satisfied: idna<4,>=2.5 in c:\\users\\admin\\appdata\\local\\programs\\python\\python39\\lib\\site-packages (from requests->autorom[accept-rom-license]) (3.4)\n",
      "Requirement already satisfied: urllib3<3,>=1.21.1 in c:\\users\\admin\\appdata\\local\\programs\\python\\python39\\lib\\site-packages (from requests->autorom[accept-rom-license]) (2.0.2)\n",
      "Requirement already satisfied: certifi>=2017.4.17 in c:\\users\\admin\\appdata\\local\\programs\\python\\python39\\lib\\site-packages (from requests->autorom[accept-rom-license]) (2023.5.7)\n",
      "Building wheels for collected packages: AutoROM.accept-rom-license\n",
      "  Building wheel for AutoROM.accept-rom-license (pyproject.toml): started\n",
      "  Building wheel for AutoROM.accept-rom-license (pyproject.toml): finished with status 'done'\n",
      "  Created wheel for AutoROM.accept-rom-license: filename=AutoROM.accept_rom_license-0.6.1-py3-none-any.whl size=446679 sha256=4f039540ef3793b8551b48d7c733b12714b0c81c25648834afb23a9517cfb043\n",
      "  Stored in directory: c:\\users\\admin\\appdata\\local\\pip\\cache\\wheels\\b1\\1f\\f7\\2da07cf4f81ea264bdaf043028749d88fe0c2227134a22cf80\n",
      "Successfully built AutoROM.accept-rom-license\n",
      "Installing collected packages: click, AutoROM.accept-rom-license, autorom\n",
      "Successfully installed AutoROM.accept-rom-license-0.6.1 autorom-0.6.1 click-8.1.3\n"
     ]
    }
   ],
   "source": [
    "!pip install gym[atari]\n",
    "!pip install autorom[accept-rom-license]"
   ]
  },
  {
   "attachments": {},
   "cell_type": "markdown",
   "metadata": {
    "id": "qYQCFt_JYsjd"
   },
   "source": [
    "Create trainer"
   ]
  },
  {
   "cell_type": "code",
   "execution_count": 12,
   "metadata": {
    "id": "8LB7XVViYuPG"
   },
   "outputs": [
    {
     "ename": "EOFError",
     "evalue": "",
     "output_type": "error",
     "traceback": [
      "\u001b[1;31m---------------------------------------------------------------------------\u001b[0m",
      "\u001b[1;31mBrokenPipeError\u001b[0m                           Traceback (most recent call last)",
      "File \u001b[1;32mc:\\Users\\admin\\AppData\\Local\\Programs\\Python\\Python39\\lib\\multiprocessing\\connection.py:317\u001b[0m, in \u001b[0;36mPipeConnection._recv_bytes\u001b[1;34m(self, maxsize)\u001b[0m\n\u001b[0;32m    316\u001b[0m \u001b[39mfinally\u001b[39;00m:\n\u001b[1;32m--> 317\u001b[0m     nread, err \u001b[39m=\u001b[39m ov\u001b[39m.\u001b[39;49mGetOverlappedResult(\u001b[39mTrue\u001b[39;49;00m)\n\u001b[0;32m    318\u001b[0m     \u001b[39mif\u001b[39;00m err \u001b[39m==\u001b[39m \u001b[39m0\u001b[39m:\n",
      "\u001b[1;31mBrokenPipeError\u001b[0m: [WinError 109] 管道已结束。",
      "\nDuring handling of the above exception, another exception occurred:\n",
      "\u001b[1;31mEOFError\u001b[0m                                  Traceback (most recent call last)",
      "Cell \u001b[1;32mIn[12], line 7\u001b[0m\n\u001b[0;32m      1\u001b[0m \u001b[39m# import importlib\u001b[39;00m\n\u001b[0;32m      2\u001b[0m \u001b[39m# import labml_nn.rl.dqn.experiment\u001b[39;00m\n\u001b[0;32m      3\u001b[0m \n\u001b[0;32m      4\u001b[0m \u001b[39m# importlib.reload(labml_nn.rl.dqn.experiment)\u001b[39;00m\n\u001b[0;32m      5\u001b[0m \u001b[39m# from labml_nn.rl.dqn.experiment import Trainer\u001b[39;00m\n\u001b[1;32m----> 7\u001b[0m trainer \u001b[39m=\u001b[39m Trainer(\u001b[39m*\u001b[39m\u001b[39m*\u001b[39mconfigs)\n",
      "File \u001b[1;32mc:\\Users\\admin\\AppData\\Local\\Programs\\Python\\Python39\\lib\\site-packages\\labml_nn\\rl\\dqn\\experiment.py:103\u001b[0m, in \u001b[0;36mTrainer.__init__\u001b[1;34m(self, updates, epochs, n_workers, worker_steps, mini_batch_size, update_target_model, learning_rate)\u001b[0m\n\u001b[0;32m    101\u001b[0m \u001b[39m# get the initial observations\u001b[39;00m\n\u001b[0;32m    102\u001b[0m \u001b[39mfor\u001b[39;00m i, worker \u001b[39min\u001b[39;00m \u001b[39menumerate\u001b[39m(\u001b[39mself\u001b[39m\u001b[39m.\u001b[39mworkers):\n\u001b[1;32m--> 103\u001b[0m     \u001b[39mself\u001b[39m\u001b[39m.\u001b[39mobs[i] \u001b[39m=\u001b[39m worker\u001b[39m.\u001b[39;49mchild\u001b[39m.\u001b[39;49mrecv()\n\u001b[0;32m    105\u001b[0m \u001b[39m# loss function\u001b[39;00m\n\u001b[0;32m    106\u001b[0m \u001b[39mself\u001b[39m\u001b[39m.\u001b[39mloss_func \u001b[39m=\u001b[39m QFuncLoss(\u001b[39m0.99\u001b[39m)\n",
      "File \u001b[1;32mc:\\Users\\admin\\AppData\\Local\\Programs\\Python\\Python39\\lib\\multiprocessing\\connection.py:255\u001b[0m, in \u001b[0;36m_ConnectionBase.recv\u001b[1;34m(self)\u001b[0m\n\u001b[0;32m    253\u001b[0m \u001b[39mself\u001b[39m\u001b[39m.\u001b[39m_check_closed()\n\u001b[0;32m    254\u001b[0m \u001b[39mself\u001b[39m\u001b[39m.\u001b[39m_check_readable()\n\u001b[1;32m--> 255\u001b[0m buf \u001b[39m=\u001b[39m \u001b[39mself\u001b[39;49m\u001b[39m.\u001b[39;49m_recv_bytes()\n\u001b[0;32m    256\u001b[0m \u001b[39mreturn\u001b[39;00m _ForkingPickler\u001b[39m.\u001b[39mloads(buf\u001b[39m.\u001b[39mgetbuffer())\n",
      "File \u001b[1;32mc:\\Users\\admin\\AppData\\Local\\Programs\\Python\\Python39\\lib\\multiprocessing\\connection.py:326\u001b[0m, in \u001b[0;36mPipeConnection._recv_bytes\u001b[1;34m(self, maxsize)\u001b[0m\n\u001b[0;32m    324\u001b[0m \u001b[39mexcept\u001b[39;00m \u001b[39mOSError\u001b[39;00m \u001b[39mas\u001b[39;00m e:\n\u001b[0;32m    325\u001b[0m     \u001b[39mif\u001b[39;00m e\u001b[39m.\u001b[39mwinerror \u001b[39m==\u001b[39m _winapi\u001b[39m.\u001b[39mERROR_BROKEN_PIPE:\n\u001b[1;32m--> 326\u001b[0m         \u001b[39mraise\u001b[39;00m \u001b[39mEOFError\u001b[39;00m\n\u001b[0;32m    327\u001b[0m     \u001b[39melse\u001b[39;00m:\n\u001b[0;32m    328\u001b[0m         \u001b[39mraise\u001b[39;00m\n",
      "\u001b[1;31mEOFError\u001b[0m: "
     ]
    }
   ],
   "source": [
    "# import importlib\n",
    "# import labml_nn.rl.dqn.experiment\n",
    "\n",
    "# importlib.reload(labml_nn.rl.dqn.experiment)\n",
    "# from labml_nn.rl.dqn.experiment import Trainer\n",
    "\n",
    "trainer = Trainer(**configs)\n"
   ]
  },
  {
   "attachments": {},
   "cell_type": "markdown",
   "metadata": {
    "id": "KJZRf8527GxL"
   },
   "source": [
    "Start the experiment and run the training loop."
   ]
  },
  {
   "cell_type": "code",
   "execution_count": null,
   "metadata": {
    "colab": {
     "base_uri": "https://localhost:8080/",
     "height": 520
    },
    "id": "aIAWo7Fw5DR8",
    "outputId": "f2bca844-662d-4bfb-a295-d8529f538eaa"
   },
   "outputs": [],
   "source": [
    "with experiment.start():\n",
    "    trainer.run_training_loop()"
   ]
  }
 ],
 "metadata": {
  "accelerator": "GPU",
  "colab": {
   "collapsed_sections": [],
   "name": "Deep Q Networks (DQN)",
   "provenance": []
  },
  "kernelspec": {
   "display_name": "Python 3",
   "language": "python",
   "name": "python3"
  },
  "language_info": {
   "codemirror_mode": {
    "name": "ipython",
    "version": 3
   },
   "file_extension": ".py",
   "mimetype": "text/x-python",
   "name": "python",
   "nbconvert_exporter": "python",
   "pygments_lexer": "ipython3",
   "version": "3.9.1"
  }
 },
 "nbformat": 4,
 "nbformat_minor": 4
}
